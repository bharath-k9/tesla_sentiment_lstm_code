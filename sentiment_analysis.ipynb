{
 "cells": [
  {
   "cell_type": "code",
   "execution_count": 3,
   "id": "0cacc9b0",
   "metadata": {},
   "outputs": [
    {
     "name": "stderr",
     "output_type": "stream",
     "text": [
      "[nltk_data] Downloading package punkt to\n",
      "[nltk_data]     C:\\Users\\DELL\\AppData\\Roaming\\nltk_data...\n",
      "[nltk_data]   Unzipping tokenizers\\punkt.zip.\n",
      "[nltk_data] Downloading package averaged_perceptron_tagger to\n",
      "[nltk_data]     C:\\Users\\DELL\\AppData\\Roaming\\nltk_data...\n",
      "[nltk_data]   Unzipping taggers\\averaged_perceptron_tagger.zip.\n"
     ]
    },
    {
     "name": "stdout",
     "output_type": "stream",
     "text": [
      "          Date                                              Title Sentiment  \\\n",
      "0   2025-04-10  Bearish Options Play on Tesla Unveiled by TSLA...  Positive   \n",
      "1   2025-04-10  Tesla Cybertruck Sales Saw A Sharp Dive In The...  Positive   \n",
      "2   2025-04-10  Lawmakers Traded Up To $1.3 Million In Tesla S...  Negative   \n",
      "3   2025-04-10    Cracks are forming in Elon Musk’s armor of lies  Negative   \n",
      "4   2025-04-10  Bearish Options Play on Tesla Unveiled by TSLA...   Neutral   \n",
      "..         ...                                                ...       ...   \n",
      "92  2025-04-10  Elon Musk to Mark Zuckerberg: World's wealthie...  Positive   \n",
      "93  2025-04-10  Tesla Rallies as U.S. Tariff Pause Ignites Com...  Positive   \n",
      "94  2025-04-10  Could Donald Trump Deport Americans? Legal Exp...  Positive   \n",
      "95  2025-04-10          Tariffs turmoil plays havoc with pensions  Negative   \n",
      "96  2025-04-10  U.S. retail giant overtakes Google as Canada's...  Positive   \n",
      "\n",
      "    Sentiment Score  \n",
      "0          0.287500  \n",
      "1          0.006944  \n",
      "2         -0.150000  \n",
      "3         -0.500000  \n",
      "4          0.000000  \n",
      "..              ...  \n",
      "92         0.076190  \n",
      "93         0.031250  \n",
      "94         0.200000  \n",
      "95        -0.312500  \n",
      "96         0.376623  \n",
      "\n",
      "[97 rows x 4 columns]\n",
      "News and sentiment data exported to 'tesla_news_sentiment.csv'\n"
     ]
    }
   ],
   "source": [
    "import requests\n",
    "from bs4 import BeautifulSoup\n",
    "import pandas as pd\n",
    "from textblob import TextBlob\n",
    "from datetime import datetime, timedelta\n",
    "import nltk \n",
    "nltk.download('punkt')\n",
    "nltk.download('averaged_perceptron_tagger')\n",
    "\n",
    "\n",
    "# Function to fetch news articles using NewsAPI\n",
    "def fetch_tesla_news(api_key, days_back=7):\n",
    "    url = \"https://newsapi.org/v2/everything\"\n",
    "    end_date = datetime.now()\n",
    "    start_date = end_date - timedelta(days=days_back)\n",
    "    \n",
    "    params = {\n",
    "        'q': 'Tesla',\n",
    "        'from': start_date.strftime('%Y-%m-%d'),\n",
    "        'to': end_date.strftime('%Y-%m-%d'),\n",
    "        'sortBy': 'publishedAt',\n",
    "        'apiKey': api_key,\n",
    "        'language': 'en'\n",
    "    }\n",
    "    \n",
    "    response = requests.get(url, params=params)\n",
    "    if response.status_code == 200:\n",
    "        data = response.json()\n",
    "        articles = data.get('articles', [])\n",
    "        return articles\n",
    "    else:\n",
    "        print(f\"Error fetching news: {response.status_code}\")\n",
    "        return []\n",
    "\n",
    "# Function to perform sentiment analysis\n",
    "def analyze_sentiment(text):\n",
    "    blob = TextBlob(text)\n",
    "    sentiment_score = blob.sentiment.polarity\n",
    "    if sentiment_score > 0:\n",
    "        return 'Positive', sentiment_score\n",
    "    elif sentiment_score < 0:\n",
    "        return 'Negative', sentiment_score\n",
    "    else:\n",
    "        return 'Neutral', sentiment_score\n",
    "\n",
    "# Main execution\n",
    "api_key = '8fa805af31b54a0ab98c3d5e804f49df'  \n",
    "news_articles = fetch_tesla_news(api_key)\n",
    "\n",
    "# Process news and analyze sentiment\n",
    "news_data = []\n",
    "for article in news_articles:\n",
    "    title = article.get('title', 'No title')\n",
    "    description = article.get('description', 'No description') if article.get('description') else 'No description'\n",
    "    published_at = article.get('publishedAt', 'No date')\n",
    "    content = title + \" \" + description\n",
    "    \n",
    "    sentiment_label, sentiment_score = analyze_sentiment(content)\n",
    "    \n",
    "    news_data.append({\n",
    "        'Date': published_at,\n",
    "        'Title': title,\n",
    "        'Description': description,\n",
    "        'Sentiment': sentiment_label,\n",
    "        'Sentiment Score': sentiment_score\n",
    "    })\n",
    "\n",
    "# Create DataFrame\n",
    "news_df = pd.DataFrame(news_data)\n",
    "\n",
    "# Convert Date to datetime\n",
    "news_df['Date'] = pd.to_datetime(news_df['Date']).dt.date\n",
    "\n",
    "# Display results\n",
    "print(news_df[['Date', 'Title', 'Sentiment', 'Sentiment Score']])\n",
    "\n",
    "# Export to CSV\n",
    "news_df.to_csv(\"tesla_news_sentiment.csv\", index=False)\n",
    "print(\"News and sentiment data exported to 'tesla_news_sentiment.csv'\")"
   ]
  },
  {
   "cell_type": "code",
   "execution_count": null,
   "id": "367f18d2",
   "metadata": {},
   "outputs": [
    {
     "name": "stdout",
     "output_type": "stream",
     "text": [
      "2.32.3\n"
     ]
    }
   ],
   "source": []
  },
  {
   "cell_type": "code",
   "execution_count": null,
   "id": "9c36ab85",
   "metadata": {},
   "outputs": [],
   "source": []
  }
 ],
 "metadata": {
  "kernelspec": {
   "display_name": "venv",
   "language": "python",
   "name": "python3"
  },
  "language_info": {
   "codemirror_mode": {
    "name": "ipython",
    "version": 3
   },
   "file_extension": ".py",
   "mimetype": "text/x-python",
   "name": "python",
   "nbconvert_exporter": "python",
   "pygments_lexer": "ipython3",
   "version": "3.10.0"
  }
 },
 "nbformat": 4,
 "nbformat_minor": 5
}
